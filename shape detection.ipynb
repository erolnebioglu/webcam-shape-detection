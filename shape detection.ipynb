{
 "cells": [
  {
   "cell_type": "code",
   "execution_count": 9,
   "id": "42912190",
   "metadata": {},
   "outputs": [],
   "source": [
    "import cv2\n",
    "import numpy as np"
   ]
  },
  {
   "cell_type": "code",
   "execution_count": 24,
   "id": "694d20dd",
   "metadata": {},
   "outputs": [],
   "source": [
    "font = cv2.FONT_HERSHEY_SCRIPT_SIMPLEX #opencv fonts"
   ]
  },
  {
   "cell_type": "code",
   "execution_count": 25,
   "id": "53c9c36d",
   "metadata": {},
   "outputs": [],
   "source": [
    "img = cv2.imread(\"polygons.png\")"
   ]
  },
  {
   "cell_type": "code",
   "execution_count": 26,
   "id": "84b9ea2a",
   "metadata": {},
   "outputs": [],
   "source": [
    "gray = cv2.cvtColor(img,cv2.COLOR_BGR2GRAY)"
   ]
  },
  {
   "cell_type": "code",
   "execution_count": 27,
   "id": "1a1d7481",
   "metadata": {},
   "outputs": [],
   "source": [
    "_,thres = cv2.threshold(gray,240,255,cv2.THRESH_BINARY)"
   ]
  },
  {
   "cell_type": "code",
   "execution_count": 28,
   "id": "f069ad76",
   "metadata": {},
   "outputs": [],
   "source": [
    "contours,_ = cv2.findContours(thres,cv2.RETR_TREE,cv2.CHAIN_APPROX_SIMPLE)"
   ]
  },
  {
   "cell_type": "code",
   "execution_count": 29,
   "id": "0b89312d",
   "metadata": {},
   "outputs": [],
   "source": [
    "for cnt in contours:\n",
    "    epsilon = 0.01*cv2.arcLength(cnt,True)\n",
    "    approx = cv2.approxPolyDP(cnt,epsilon,True)\n",
    "    cv2.drawContours(img,[approx],0,(0),5)\n",
    "    x = approx.ravel()[0]\n",
    "    y = approx.ravel()[1]\n",
    "    \n",
    "    if len(approx)==3:\n",
    "        cv2.putText(img,\"ucgen\",(x,y),font,1,(0))\n",
    "    if len(approx)==4:\n",
    "        cv2.putText(img,\"dortgen\",(x,y),font,1,(0))    \n",
    "        \n",
    "    if len(approx)==5:\n",
    "        cv2.putText(img,\"besgen\",(x,y),font,1,(0))   \n",
    "        \n",
    "    if len(approx)==6:\n",
    "        cv2.putText(img,\"altigen\",(x,y),font,1,(0))    \n",
    "        \n",
    "    else:\n",
    "        cv2.putText(img,\"elips\",(x,y),font,1,(0))    \n",
    "        \n",
    "        \n",
    "        \n",
    "cv2.imshow(\"img\",img)\n",
    "cv2.waitKey(0)\n",
    "cv2.destroyAllWindows()"
   ]
  },
  {
   "cell_type": "code",
   "execution_count": null,
   "id": "28d59257",
   "metadata": {},
   "outputs": [],
   "source": []
  }
 ],
 "metadata": {
  "kernelspec": {
   "display_name": "Python 3 (ipykernel)",
   "language": "python",
   "name": "python3"
  },
  "language_info": {
   "codemirror_mode": {
    "name": "ipython",
    "version": 3
   },
   "file_extension": ".py",
   "mimetype": "text/x-python",
   "name": "python",
   "nbconvert_exporter": "python",
   "pygments_lexer": "ipython3",
   "version": "3.9.18"
  }
 },
 "nbformat": 4,
 "nbformat_minor": 5
}
