{
 "cells": [
  {
   "cell_type": "code",
   "execution_count": 2,
   "id": "6b7da00f",
   "metadata": {},
   "outputs": [],
   "source": [
    "import cv2\n",
    "import numpy as np"
   ]
  },
  {
   "cell_type": "code",
   "execution_count": 3,
   "id": "1df3ecbc",
   "metadata": {},
   "outputs": [],
   "source": [
    "def nothing(x):\n",
    "    pass"
   ]
  },
  {
   "cell_type": "code",
   "execution_count": 9,
   "id": "c71b8bda",
   "metadata": {},
   "outputs": [],
   "source": [
    "cap = cv2.VideoCapture(0)\n",
    "cv2.namedWindow(\"settings\")\n",
    "cv2.createTrackbar(\"Lower-Hue\",\"settings\",0,180,nothing)\n",
    "cv2.createTrackbar(\"Lower-Saturation\",\"settings\",0,255,nothing)\n",
    "cv2.createTrackbar(\"Lower-Value\",\"settings\",0,255,nothing)\n",
    "cv2.createTrackbar(\"Upper-Hue\",\"settings\",0,180,nothing)\n",
    "cv2.createTrackbar(\"Upper-Saturation\",\"settings\",0,255,nothing)\n",
    "cv2.createTrackbar(\"Upper-Value\",\"settings\",0,255,nothing)\n",
    "\n",
    "font = cv2.FONT_HERSHEY_SIMPLEX\n",
    "\n",
    "while True:\n",
    "    ret,frame = cap.read()\n",
    "    frame =cv2.flip(frame,1)\n",
    "    \n",
    "    \n",
    "    hsv = cv2.cvtColor(frame,cv2.COLOR_BGR2HSV)\n",
    "    \n",
    "    lh = cv2.getTrackbarPos(\"Lower-Hue\",\"settings\")\n",
    "    ls = cv2.getTrackbarPos(\"Lower-Saturation\",\"settings\")\n",
    "    lv = cv2.getTrackbarPos(\"Lower-Value\",\"settings\")\n",
    "    uh = cv2.getTrackbarPos(\"Upper-Hue\",\"settings\")\n",
    "    us = cv2.getTrackbarPos(\"Upper-Saturation\",\"settings\")\n",
    "    uv = cv2.getTrackbarPos(\"Upper-Value\",\"settings\")\n",
    "    \n",
    "    lower_color = np.array([lh,ls,lv])\n",
    "    upper_color = np.array([uh,us,uv])\n",
    "    \n",
    "    mask = cv2.inRange(hsv,lower_color,upper_color)\n",
    "    \n",
    "    kernel = np.ones((5,5),np.uint8)\n",
    "    mask = cv2.erode(mask,kernel)\n",
    "    \n",
    "    contours,_ = cv2.findContours(mask,cv2.RETR_TREE,cv2.CHAIN_APPROX_SIMPLE)\n",
    "    \n",
    "    for cnt in contours:\n",
    "        area = cv2.contourArea(cnt)\n",
    "        \n",
    "        epsilon = 0.02*cv2.arcLength(cnt,True)\n",
    "        \n",
    "        approx = cv2.approxPolyDP(cnt,epsilon,True)\n",
    "        x=approx.ravel()[0]\n",
    "        y=approx.ravel()[1]\n",
    "        \n",
    "        if area>400:\n",
    "            cv2.drawContours(frame,[approx],0,(0,0,0),5)\n",
    "            if len(approx)==3:\n",
    "                cv2.putText(frame,\"triangle\",(x,y),font,1,(0,0,0))\n",
    "            elif len(approx)==4:\n",
    "                cv2.putText(frame,\"rectangle\",(x,y),font,1,(0,0,0))    \n",
    "            elif len(approx)>8:\n",
    "                cv2.putText(frame,\"circle\",(x,y),font,1,(0,0,0))\n",
    "    \n",
    "    \n",
    "    cv2.imshow(\"frame\",frame)\n",
    "    cv2.imshow(\"mask\",mask)\n",
    "    \n",
    "    if cv2.waitKey(3)&0xFF==ord(\"q\"):\n",
    "        break\n",
    "        \n",
    "        \n",
    "cap.release()\n",
    "cv2.destroyAllWindows()"
   ]
  },
  {
   "cell_type": "code",
   "execution_count": 4,
   "id": "60639d37",
   "metadata": {},
   "outputs": [],
   "source": []
  },
  {
   "cell_type": "code",
   "execution_count": null,
   "id": "352a2a28",
   "metadata": {},
   "outputs": [],
   "source": []
  }
 ],
 "metadata": {
  "kernelspec": {
   "display_name": "Python 3 (ipykernel)",
   "language": "python",
   "name": "python3"
  },
  "language_info": {
   "codemirror_mode": {
    "name": "ipython",
    "version": 3
   },
   "file_extension": ".py",
   "mimetype": "text/x-python",
   "name": "python",
   "nbconvert_exporter": "python",
   "pygments_lexer": "ipython3",
   "version": "3.9.18"
  }
 },
 "nbformat": 4,
 "nbformat_minor": 5
}
